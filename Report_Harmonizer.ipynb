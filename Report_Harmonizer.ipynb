{
 "cells": [
  {
   "cell_type": "markdown",
   "id": "adb84c44",
   "metadata": {},
   "source": [
    "# Harmonizer Tool : module to convert Json files into RDF files  \n",
    "\n",
    "**CSTB** : Nicolas BUS, Guillaume PICINBONO, Nicolas PASTORELLY, Audrey BOUET  "
   ]
  },
  {
   "cell_type": "markdown",
   "id": "43332cae",
   "metadata": {},
   "source": [
    "## Table of Contents\n",
    "\n",
    "1. [Aim](#1.-Aim)  \n",
    "\n",
    "2. [Useful Tools](#2.-Useful-Tools)  \n",
    "\n",
    "3. [Arguments of the module](#3.-Arguments-of-the-module)  \n",
    "    3.1. [Input File](#3.1.-Input-File)    \n",
    "    3.2. [RML File](#3.2.-RML-File)  \n",
    "    3.3 [Sparql Files](#3.3.-Sparql-Files)  \n",
    "    3.4 [Output File](#3.4.-Output-File)      \n",
    "\n",
    "4. [Module Operations](#4.-Module-Operations)  \n",
    "   \n",
    "5. [Examples of use](#5.-Examples-of-use)  \n",
    "    5.1. [Simple conversion](#5.1.-Simple-conversion)  \n",
    "    5.2. [Sparql Estage](#5.2.-Sparql-Estage)  \n",
    "    5.3. [Conversion and multiples Request](#5.3.-Conversion-and-multiples-Request)   \n",
    " \n"
   ]
  },
  {
   "cell_type": "markdown",
   "id": "abf04dba",
   "metadata": {},
   "source": [
    "## 1. Aim  \n",
    "  \n",
    "The aim of this module is to convert files containing data in a natural language into a file which can be read by a machine to create an ontologie.\n",
    "The principal idea is to transform a **JSON** file into a **RDF/Turtle** file by using a mapping file (**RML**) previously created.\n",
    "Then, we added a module to modify, insert data into a created **RDF** file thantks to some **SPARQL querries** on the previous graph.  \n",
    "\n",
    "![scheme](documentation/scheme_harmonizer.png)"
   ]
  },
  {
   "cell_type": "markdown",
   "id": "841d6ce2",
   "metadata": {},
   "source": [
    "## 2. Useful Tools  \n",
    "\n",
    "**Json Parser** [(link)](http://json.parser.online.fr/) : To check the format of the Json file  \n",
    "**Matey** [(link)](https://rml.io/yarrrml/matey/) : To create the mapping file  \n",
    "**Python** (v3.10) : To execute the harmonizer tool  \n",
    "**Java lib** (rml.jar) : To use the mapping file in the Python module to convert json to RDF   \n",
    "  "
   ]
  },
  {
   "cell_type": "markdown",
   "id": "ea7330b6",
   "metadata": {},
   "source": [
    "## 3. Arguments of the module  \n",
    "\n",
    "There are 2 modules inside the harmonizer tool :  \n",
    "* The conversion  \n",
    "* The Sparql Estage  \n",
    "\n",
    "To activate the previous modules, you will have to specify them in the call of the tool. \n",
    "The basic command line to execute the Python tool is the following :  \n",
    "\n",
    "&nbsp; **python** &nbsp; $\\color{blue}{harmonizer.py}$ &nbsp; $\\color{red}{--input}$ &nbsp; $\\color{red}{inputFile}$ &nbsp; $\\color{orange}{[--mapping}$ &nbsp; $\\color{orange}{RMLFile]}$ &nbsp; $\\color{green}{[--sparql}$ &nbsp; $\\color{green}{SparqlFiles]}$ &nbsp; $\\color{purple}{[--output}$ &nbsp; $\\color{purple}{outputFilename]}$    \n",
    "\n"
   ]
  },
  {
   "cell_type": "markdown",
   "id": "13a930b8",
   "metadata": {},
   "source": [
    "### 3.1. Input File  \n",
    "\n",
    "In the command line, only the $\\color{red}{inputFile}$ is mandatory.  \n",
    "You can insert a Json file or a Ttl file of they exists.  \n",
    "- If a **Json** File is specified, you must also specify a mapping file to do the conversion.  \n",
    "- If a **Ttl** File is specified, the conversion will be skipped.  "
   ]
  },
  {
   "cell_type": "markdown",
   "id": "02276d56",
   "metadata": {},
   "source": [
    "### 3.2. RML File  \n",
    "\n",
    "In the command line, the $\\color{orange}{mapping File}$ is optionnal.  \n",
    "If the **rml** file is specified, then it has to exist and will allow to activate the conversion if a **Json** File is in input.  \n"
   ]
  },
  {
   "cell_type": "markdown",
   "id": "52c3aece",
   "metadata": {},
   "source": [
    "### 3.3. Sparql Files\n",
    "\n",
    "In the command line, the $\\color{green}{[--sparql}$ is optionnal.  \n",
    "You can insert many sparql files, each file will be read and executed one by one.  \n",
    "If all $\\color{green}{Sparql Files}$ exist, then the request module is activated.  \n"
   ]
  },
  {
   "cell_type": "markdown",
   "id": "4601a1e0",
   "metadata": {},
   "source": [
    "### 3.4. Output File  \n",
    "\n",
    "In the command line, the $\\color{purple}{outputFilename}$ is optionnal.  \n",
    "If it is specified, the last file will have this name, else, the filename is **\"output.ttl\"** by default. \n",
    "There are 2 accepted format for the output : **ttl** or **jsonld**.  \n",
    "\n"
   ]
  },
  {
   "cell_type": "markdown",
   "id": "1eeb017c",
   "metadata": {},
   "source": [
    "## 4. Module Operations  \n",
    "\n",
    "Here is the scheme of the operations of the Python module :  \n",
    "![python_scheme](documentation/Python_module.png)"
   ]
  },
  {
   "cell_type": "markdown",
   "id": "64a1e5d6",
   "metadata": {},
   "source": [
    "## 5. Examples of use"
   ]
  },
  {
   "cell_type": "markdown",
   "id": "23ee119a",
   "metadata": {},
   "source": [
    "The following example will use the data from CIMNE, there are a **json** file, a **rml** file and some **sparql** queries.  \n",
    "You will find them in the **data/DemoCIMNE-v1** folder : "
   ]
  },
  {
   "cell_type": "code",
   "execution_count": 19,
   "id": "7b12b903",
   "metadata": {},
   "outputs": [],
   "source": [
    "import os\n",
    "import json\n",
    "import pathlib"
   ]
  },
  {
   "cell_type": "code",
   "execution_count": 20,
   "id": "02066d18",
   "metadata": {},
   "outputs": [
    {
     "data": {
      "text/plain": [
       "['construct_alignement.txt',\n",
       " 'construct_source.txt',\n",
       " 'construct_source2.txt',\n",
       " 'data.json',\n",
       " 'mapping.rml']"
      ]
     },
     "execution_count": 20,
     "metadata": {},
     "output_type": "execute_result"
    }
   ],
   "source": [
    "os.listdir(os.path.join(os.getcwd(),'data\\\\DemoCIMNE-v1'))"
   ]
  },
  {
   "cell_type": "markdown",
   "id": "87262fed",
   "metadata": {},
   "source": [
    "### The Json File"
   ]
  },
  {
   "cell_type": "code",
   "execution_count": 21,
   "id": "f8275f3f",
   "metadata": {},
   "outputs": [
    {
     "name": "stdout",
     "output_type": "stream",
     "text": [
      "{\n",
      "    \"Buildings\": [\n",
      "        {\n",
      "            \"Classificacio_sol\": \"na\",\n",
      "            \"Clau_qualificacio_urbanistica\": \"nan\",\n",
      "            \"Codi_postal\": \"\",\n",
      "            \"Espai\": \"Casa del Mar d'El Port de la Selva\",\n",
      "            \"Municipi\": \"El Port de la Selva\",\n",
      "            \"Num_Ens_Inventari\": \"03573\",\n",
      "            \"Num_via\": \"11\",\n",
      "            \"Provincia\": \"Girona\",\n",
      "            \"Qualificacio_urbanistica\": \"nan\",\n",
      "            \"Ref_Cadastral\": \"6875508EG1867N0001OO\",\n",
      "            \"Sup_const_sobre_rasant\": \"213.61\",\n",
      "            \"Sup_const_sota rasant\": \"0.0\",\n",
      "            \"Sup_const_total\": \"213.61\",\n",
      "            \"Sup_terreny\": \"0.0\",\n",
      "            \"Via\": \"de l'Illa\"\n",
      "        }\n",
      "    ]\n",
      "}\n"
     ]
    }
   ],
   "source": [
    "parsed = json.loads(pathlib.Path(\"data\\\\DemoCIMNE-v1\\\\data.json\").read_text())\n",
    "print(json.dumps(parsed, indent=4, sort_keys=True))"
   ]
  },
  {
   "cell_type": "markdown",
   "id": "126b250d",
   "metadata": {},
   "source": [
    "### 5.1. Simple conversion  \n",
    "\n",
    "From a Json file and its mapping file, convert it into a **ttl** file :  \n"
   ]
  },
  {
   "cell_type": "code",
   "execution_count": 22,
   "id": "676dc155",
   "metadata": {},
   "outputs": [
    {
     "name": "stdout",
     "output_type": "stream",
     "text": [
      "Activation of the conversion\n",
      "Harmonizer without queries\n"
     ]
    }
   ],
   "source": [
    "!python harmonizer.py --input data/DemoCIMNE-v1/data.json --mapping data/DemoCIMNE-v1/mapping.rml --output data/DemoCIMNE-v1/conversion_1.ttl"
   ]
  },
  {
   "cell_type": "markdown",
   "id": "19f63e1a",
   "metadata": {},
   "source": [
    "From a Json file and its mapping file, convert it into a **jsonld** file :  "
   ]
  },
  {
   "cell_type": "code",
   "execution_count": 23,
   "id": "b5630c6e",
   "metadata": {},
   "outputs": [
    {
     "name": "stdout",
     "output_type": "stream",
     "text": [
      "Activation of the conversion\n",
      "Harmonizer without queries\n"
     ]
    }
   ],
   "source": [
    "!python harmonizer.py --input data/DemoCIMNE-v1/data.json --mapping data/DemoCIMNE-v1/mapping.rml --output data/DemoCIMNE-v1/conversion_1.jsonld"
   ]
  },
  {
   "cell_type": "markdown",
   "id": "98eee17d",
   "metadata": {},
   "source": [
    "### The ttl output file"
   ]
  },
  {
   "cell_type": "code",
   "execution_count": 24,
   "id": "a027b70c",
   "metadata": {},
   "outputs": [
    {
     "name": "stdout",
     "output_type": "stream",
     "text": [
      "@prefix ns1: <http://bigg-project.eu/> .\n",
      "\n",
      "<http://bigg-project.eu/instances/building_03573> a ns1:Building ;\n",
      "    ns1:buildingName \"http://bigg-project.eu/instances/Casa del Mar d'El Port de la Selva\" ;\n",
      "    ns1:hasCadastralInfo <http://bigg-project.eu/instances/cadastralInfo_6875508EG1867N0001OO> ;\n",
      "    ns1:hasLocationInfo <http://bigg-project.eu/instances/locationInfo_03573> ;\n",
      "    ns1:hasSpace <http://bigg-project.eu/instances/buildingSpace_03573> .\n",
      "\n",
      "\n"
     ]
    }
   ],
   "source": [
    "ttl = pathlib.Path(\"data\\\\DemoCIMNE-v1\\\\conversion_1.ttl\").read_text()\n",
    "print(ttl)"
   ]
  },
  {
   "cell_type": "markdown",
   "id": "ac49db7e",
   "metadata": {},
   "source": [
    "### 5.2. Sparql Estage"
   ]
  },
  {
   "cell_type": "code",
   "execution_count": 25,
   "id": "0891fc80",
   "metadata": {},
   "outputs": [
    {
     "name": "stdout",
     "output_type": "stream",
     "text": [
      "prefix bigg: <http://bigg-project.eu/ontology#>\n",
      "prefix dc: <http://purl.org/dc/terms/> \n",
      "\n",
      "CONSTRUCT {\n",
      "?uri  a bigg:hamonizedData ;\n",
      "      dc:created ?date ;\n",
      "      dc:source \"Hamonizer v1.0\" .\n",
      "  ?s ?p ?o .\n",
      "} WHERE {\n",
      " {\n",
      "  SELECT ?date ?uri \n",
      "  WHERE {\n",
      "   BIND(NOW() AS ?date)\n",
      "   BIND(IRI(UUID()) AS ?uri)\n",
      "   }\n",
      "  }\n",
      " ?s ?p ?o .\n",
      "}\n"
     ]
    }
   ],
   "source": [
    "sparql = pathlib.Path(\"data\\\\DemoCIMNE-v1\\\\construct_source.txt\").read_text()\n",
    "print(sparql)"
   ]
  },
  {
   "cell_type": "code",
   "execution_count": 26,
   "id": "58f04239",
   "metadata": {},
   "outputs": [
    {
     "name": "stdout",
     "output_type": "stream",
     "text": [
      "Activation of the request\n"
     ]
    }
   ],
   "source": [
    "!python harmonizer.py --input data/DemoCIMNE-v1/conversion_1.ttl --sparql data/DemoCIMNE-v1/construct_source.txt --output data/DemoCIMNE-v1/sparql_1.ttl"
   ]
  },
  {
   "cell_type": "markdown",
   "id": "9dc43f05",
   "metadata": {},
   "source": [
    "### The output ttl file with the request"
   ]
  },
  {
   "cell_type": "code",
   "execution_count": 27,
   "id": "16839ca7",
   "metadata": {},
   "outputs": [
    {
     "name": "stdout",
     "output_type": "stream",
     "text": [
      "@prefix dcterms: <http://purl.org/dc/terms/> .\n",
      "@prefix ns1: <http://bigg-project.eu/> .\n",
      "@prefix xsd: <http://www.w3.org/2001/XMLSchema#> .\n",
      "\n",
      "<http://bigg-project.eu/instances/building_03573> a ns1:Building ;\n",
      "    ns1:buildingName \"http://bigg-project.eu/instances/Casa del Mar d'El Port de la Selva\" ;\n",
      "    ns1:hasCadastralInfo <http://bigg-project.eu/instances/cadastralInfo_6875508EG1867N0001OO> ;\n",
      "    ns1:hasLocationInfo <http://bigg-project.eu/instances/locationInfo_03573> ;\n",
      "    ns1:hasSpace <http://bigg-project.eu/instances/buildingSpace_03573> .\n",
      "\n",
      "<urn:uuid:ee6c67cc-1929-4d94-8845-9d16dfca9590> a <http://bigg-project.eu/ontology#hamonizedData> ;\n",
      "    dcterms:created \"2023-01-17T15:34:09.209629+00:00\"^^xsd:dateTime ;\n",
      "    dcterms:source \"Hamonizer v1.0\" .\n",
      "\n",
      "\n"
     ]
    }
   ],
   "source": [
    "ttl_sparql = pathlib.Path(\"data\\\\DemoCIMNE-v1\\\\sparql_1.ttl\").read_text()\n",
    "print(ttl_sparql)"
   ]
  },
  {
   "cell_type": "markdown",
   "id": "0ecd61e6",
   "metadata": {},
   "source": [
    "### 5.3. Conversion and multiples Request"
   ]
  },
  {
   "cell_type": "code",
   "execution_count": 29,
   "id": "c7b6972d",
   "metadata": {},
   "outputs": [
    {
     "name": "stdout",
     "output_type": "stream",
     "text": [
      "Activation of the conversion\n",
      "Activation of the request\n",
      "Activation of the request\n"
     ]
    }
   ],
   "source": [
    "!python harmonizer.py --input data/DemoCIMNE-v1/data.json --mapping data/DemoCIMNE-v1/mapping.rml --sparql data/DemoCIMNE-v1/construct_source.txt data/DemoCIMNE-v1/construct_source2.txt --output data/DemoCIMNE-v1/sparql_2.ttl"
   ]
  },
  {
   "cell_type": "code",
   "execution_count": 30,
   "id": "fbf25db4",
   "metadata": {},
   "outputs": [
    {
     "name": "stdout",
     "output_type": "stream",
     "text": [
      "@prefix dcterms: <http://purl.org/dc/terms/> .\n",
      "@prefix ns1: <http://bigg-project.eu/> .\n",
      "@prefix xsd: <http://www.w3.org/2001/XMLSchema#> .\n",
      "\n",
      "<http://bigg-project.eu/instances/building_03573> a ns1:Building ;\n",
      "    ns1:buildingName \"http://bigg-project.eu/instances/Casa del Mar d'El Port de la Selva\" ;\n",
      "    ns1:hasCadastralInfo <http://bigg-project.eu/instances/cadastralInfo_6875508EG1867N0001OO> ;\n",
      "    ns1:hasLocationInfo <http://bigg-project.eu/instances/locationInfo_03573> ;\n",
      "    ns1:hasSpace <http://bigg-project.eu/instances/buildingSpace_03573> .\n",
      "\n",
      "<urn:uuid:5ca89a10-aed9-4690-9538-f5ddc14bc9bb> a <http://bigg-project.eu/ontology#hamonizedData> ;\n",
      "    dcterms:created \"2023-01-17T15:36:29.725907+00:00\"^^xsd:dateTime ;\n",
      "    dcterms:source \"Hamonizer v1.0\" .\n",
      "\n",
      "<urn:uuid:c9b31d43-afa4-4cd4-8fd6-9ec21063adb8> a <http://bigg-project.eu/ontology#hamonizedData> ;\n",
      "    dcterms:created \"2023-01-17T15:36:29.730898+00:00\"^^xsd:dateTime ;\n",
      "    dcterms:source \"Hamonizer v1.1\" .\n",
      "\n",
      "\n"
     ]
    }
   ],
   "source": [
    "ttl_sparql2 = pathlib.Path(\"data\\\\DemoCIMNE-v1\\\\sparql_2.ttl\").read_text()\n",
    "print(ttl_sparql2)"
   ]
  },
  {
   "cell_type": "code",
   "execution_count": null,
   "id": "1316a7dd",
   "metadata": {},
   "outputs": [],
   "source": []
  }
 ],
 "metadata": {
  "kernelspec": {
   "display_name": "Python 3 (ipykernel)",
   "language": "python",
   "name": "python3"
  },
  "language_info": {
   "codemirror_mode": {
    "name": "ipython",
    "version": 3
   },
   "file_extension": ".py",
   "mimetype": "text/x-python",
   "name": "python",
   "nbconvert_exporter": "python",
   "pygments_lexer": "ipython3",
   "version": "3.10.5"
  }
 },
 "nbformat": 4,
 "nbformat_minor": 5
}
