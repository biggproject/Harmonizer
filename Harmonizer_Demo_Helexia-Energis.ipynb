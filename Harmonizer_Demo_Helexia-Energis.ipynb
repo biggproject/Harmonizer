{
 "cells": [
  {
   "cell_type": "markdown",
   "id": "adb84c44",
   "metadata": {},
   "source": [
    "# Harmonizer Demo : converts Json files into RDF files  \n",
    "### Data from Helexia - Energis"
   ]
  },
  {
   "cell_type": "markdown",
   "id": "899f231e",
   "metadata": {},
   "source": [
    "### Import libraries"
   ]
  },
  {
   "cell_type": "code",
   "execution_count": 5,
   "id": "7b12b903",
   "metadata": {},
   "outputs": [],
   "source": [
    "import os\n",
    "import json\n",
    "import pathlib\n",
    "import glob"
   ]
  },
  {
   "cell_type": "markdown",
   "id": "43332cae",
   "metadata": {},
   "source": [
    "## Table of Contents\n",
    "\n",
    "1. [Aim](#1.-Aim)  \n",
    "\n",
    "2. [Arguments of the module](#2.-Arguments-of-the-module)  \n",
    "\n",
    "3. [Examples of use](#3.-Examples-of-use)  \n",
    " "
   ]
  },
  {
   "cell_type": "markdown",
   "id": "abf04dba",
   "metadata": {},
   "source": [
    "## 1. Aim  \n",
    "  \n",
    "The aim of this module is to convert files containing data in a natural language into a file which can be read by a machine to create an ontologie.\n",
    "The principal idea is to transform a **JSON** file into a **RDF/Turtle** file by using a mapping file (**RML**) previously created.\n",
    "Then, we added a module to modify, insert data into a created **RDF** file thantks to some **SPARQL querries** on the previous graph.  \n",
    "\n",
    "![scheme](documentation/scheme_harmonizer.png)"
   ]
  },
  {
   "cell_type": "markdown",
   "id": "ea7330b6",
   "metadata": {},
   "source": [
    "## 2. Arguments of the module  \n",
    "\n",
    "There are 2 modules inside the harmonizer tool :  \n",
    "* The conversion  \n",
    "* The Sparql Estage  \n",
    "\n",
    "To activate the previous modules, you will have to specify them in the call of the tool. \n",
    "The basic command line to execute the Python tool is the following :  \n",
    "\n",
    "&nbsp; **python** &nbsp; $\\color{blue}{harmonizer.py}$ &nbsp; $\\color{red}{--input}$ &nbsp; $\\color{red}{inputFile}$ &nbsp; $\\color{orange}{[--mapping}$ &nbsp; $\\color{orange}{RMLFile]}$ &nbsp; $\\color{green}{[--sparql}$ &nbsp; $\\color{green}{SparqlFiles]}$ &nbsp; $\\color{purple}{[--output}$ &nbsp; $\\color{purple}{outputFilename]}$    \n",
    "\n"
   ]
  },
  {
   "cell_type": "markdown",
   "id": "64a1e5d6",
   "metadata": {},
   "source": [
    "## 3. Examples of use"
   ]
  },
  {
   "cell_type": "markdown",
   "id": "23ee119a",
   "metadata": {},
   "source": [
    "The following example will use the data from Helexia-Energis, there are 5 **json** files, 5 **rml** files and some **sparql** queries.  \n",
    "You will find them in the **data/Demo_Helexia-Energis** folder : "
   ]
  },
  {
   "cell_type": "code",
   "execution_count": 3,
   "id": "02066d18",
   "metadata": {},
   "outputs": [
    {
     "data": {
      "text/plain": [
       "['1bis_interamerican_asset_details.json',\n",
       " '1bis_interamerican_asset_details.rml',\n",
       " '1_bigg_project_full_asset_tree_with_tag_ids.json',\n",
       " '1_bigg_project_full_asset_tree_with_tag_ids.rml',\n",
       " '2bis_interamerican_electricity_consumption_metric_details.json',\n",
       " '2bis_interamerican_electricity_consumption_metric_details.rml',\n",
       " '2_interamerican_electricity_consumption_timeseries.json',\n",
       " '2_interamerican_electricity_consumption_timeseries.rml',\n",
       " '3_interamerican_outdoor_temperature_timeseries.json',\n",
       " '3_interamerican_outdoor_temperature_timeseries.rml']"
      ]
     },
     "execution_count": 3,
     "metadata": {},
     "output_type": "execute_result"
    }
   ],
   "source": [
    "os.listdir(os.path.join(os.getcwd(),'data\\\\Demo_Helexia-Energis'))"
   ]
  },
  {
   "cell_type": "markdown",
   "id": "87262fed",
   "metadata": {},
   "source": [
    "### Convert Json Files with the RML mapping files"
   ]
  },
  {
   "cell_type": "code",
   "execution_count": 20,
   "id": "f8275f3f",
   "metadata": {},
   "outputs": [
    {
     "name": "stdout",
     "output_type": "stream",
     "text": [
      "---- JSON File : data\\Demo_Helexia-energis\\1bis_interamerican_asset_details.json \n",
      "-- Conversion TTL : OK \n",
      "---- JSON File : data\\Demo_Helexia-energis\\1_bigg_project_full_asset_tree_with_tag_ids.json \n",
      "-- Conversion TTL : OK \n",
      "---- JSON File : data\\Demo_Helexia-energis\\2bis_interamerican_electricity_consumption_metric_details.json \n",
      "-- Conversion TTL : OK \n",
      "---- JSON File : data\\Demo_Helexia-energis\\2_interamerican_electricity_consumption_timeseries.json \n",
      "-- Conversion TTL : OK \n",
      "---- JSON File : data\\Demo_Helexia-energis\\3_interamerican_outdoor_temperature_timeseries.json \n",
      "-- Conversion TTL : OK \n"
     ]
    }
   ],
   "source": [
    "for jsonFile in glob.glob('data\\\\Demo_Helexia-Energis\\\\*.json'):\n",
    "    RMLFile = jsonFile.replace('.json','.rml')\n",
    "    OutputFile = jsonFile.replace('.json','.ttl')\n",
    "\n",
    "    print(f'---- JSON File : {jsonFile} ') \n",
    "    os.system(f'python harmonizer.py --input {jsonFile} --mapping {RMLFile} --output {OutputFile}')\n",
    "    print(f'-- Conversion TTL : OK ') "
   ]
  },
  {
   "attachments": {},
   "cell_type": "markdown",
   "id": "98eee17d",
   "metadata": {},
   "source": [
    "### Example of a ttl output file"
   ]
  },
  {
   "cell_type": "code",
   "execution_count": 6,
   "id": "a027b70c",
   "metadata": {},
   "outputs": [
    {
     "name": "stdout",
     "output_type": "stream",
     "text": [
      "@prefix ns1: <http://bigg-project.eu/> .\n",
      "\n",
      "<http://bigg-project.eu/instances/building_03573> a ns1:Building ;\n",
      "    ns1:buildingName \"http://bigg-project.eu/instances/Casa del Mar d'El Port de la Selva\" ;\n",
      "    ns1:hasCadastralInfo <http://bigg-project.eu/instances/cadastralInfo_6875508EG1867N0001OO> ;\n",
      "    ns1:hasLocationInfo <http://bigg-project.eu/instances/locationInfo_03573> ;\n",
      "    ns1:hasSpace <http://bigg-project.eu/instances/buildingSpace_03573> .\n",
      "\n",
      "\n"
     ]
    }
   ],
   "source": [
    "ttl = pathlib.Path(\"data\\\\Demo_Helexia-Energis\\\\1bis_interamerican_asset_details.ttl\").read_text()\n",
    "print(ttl)"
   ]
  },
  {
   "cell_type": "markdown",
   "id": "ac49db7e",
   "metadata": {},
   "source": [
    "### 5.2. Sparql Estage"
   ]
  }
 ],
 "metadata": {
  "kernelspec": {
   "display_name": "Python 3 (ipykernel)",
   "language": "python",
   "name": "python3"
  },
  "language_info": {
   "codemirror_mode": {
    "name": "ipython",
    "version": 3
   },
   "file_extension": ".py",
   "mimetype": "text/x-python",
   "name": "python",
   "nbconvert_exporter": "python",
   "pygments_lexer": "ipython3",
   "version": "3.10.5"
  }
 },
 "nbformat": 4,
 "nbformat_minor": 5
}
