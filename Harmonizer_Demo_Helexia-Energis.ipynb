{
 "cells": [
  {
   "cell_type": "markdown",
   "id": "adb84c44",
   "metadata": {},
   "source": [
    "# Harmonizer Demo : converts Json files into RDF files  \n",
    "### Data from Helexia - Energis"
   ]
  },
  {
   "cell_type": "markdown",
   "id": "899f231e",
   "metadata": {},
   "source": [
    "### Import libraries"
   ]
  },
  {
   "cell_type": "code",
   "execution_count": 1,
   "id": "7b12b903",
   "metadata": {},
   "outputs": [],
   "source": [
    "import os\n",
    "import json\n",
    "import pathlib\n",
    "import glob"
   ]
  },
  {
   "cell_type": "markdown",
   "id": "43332cae",
   "metadata": {},
   "source": [
    "## Table of Contents\n",
    "\n",
    "1. [Aim](#1.-Aim)  \n",
    "\n",
    "2. [Arguments of the module](#2.-Arguments-of-the-module)  \n",
    "\n",
    "3. [Examples of use](#3.-Examples-of-use)  \n",
    " "
   ]
  },
  {
   "cell_type": "markdown",
   "id": "abf04dba",
   "metadata": {},
   "source": [
    "## 1. Aim  \n",
    "  \n",
    "The aim of this module is to convert files containing data in a natural language into a file which can be read by a machine to create an ontologie.\n",
    "The principal idea is to transform a **JSON** file into a **RDF/Turtle** file by using a mapping file (**RML**) previously created.\n",
    "Then, we added a module to modify, insert data into a created **RDF** file thantks to some **SPARQL querries** on the previous graph.  \n",
    "\n",
    "![scheme](documentation/scheme_harmonizer.png)"
   ]
  },
  {
   "cell_type": "markdown",
   "id": "ea7330b6",
   "metadata": {},
   "source": [
    "## 2. Arguments of the module  \n",
    "\n",
    "There are 2 modules inside the harmonizer tool :  \n",
    "* The conversion  \n",
    "* The Sparql Estage  \n",
    "\n",
    "To activate the previous modules, you will have to specify them in the call of the tool. \n",
    "The basic command line to execute the Python tool is the following :  \n",
    "\n",
    "&nbsp; **python** &nbsp; $\\color{blue}{harmonizer.py}$ &nbsp; $\\color{red}{--input}$ &nbsp; $\\color{red}{inputFile}$ &nbsp; $\\color{orange}{[--mapping}$ &nbsp; $\\color{orange}{RMLFile]}$ &nbsp; $\\color{green}{[--sparql}$ &nbsp; $\\color{green}{SparqlFiles]}$ &nbsp; $\\color{purple}{[--output}$ &nbsp; $\\color{purple}{outputFilename]}$    \n",
    "\n"
   ]
  },
  {
   "cell_type": "markdown",
   "id": "64a1e5d6",
   "metadata": {},
   "source": [
    "## 3. Examples of use"
   ]
  },
  {
   "cell_type": "markdown",
   "id": "23ee119a",
   "metadata": {},
   "source": [
    "The following example will use the data from Helexia-Energis, there are 5 **json** files, 5 **rml** files and some **sparql** queries.  \n",
    "You will find them in the **data/Demo_Helexia-Energis** folder : "
   ]
  },
  {
   "cell_type": "code",
   "execution_count": 2,
   "id": "02066d18",
   "metadata": {},
   "outputs": [
    {
     "data": {
      "text/plain": [
       "['1bis_interamerican_asset_details.json',\n",
       " '1bis_interamerican_asset_details.rml',\n",
       " '1bis_interamerican_asset_details.ttl',\n",
       " '1bis_interamerican_asset_details_updated.rml',\n",
       " '1_bigg_project_full_asset_tree_with_tag_ids.json',\n",
       " '1_bigg_project_full_asset_tree_with_tag_ids.rml',\n",
       " '1_bigg_project_full_asset_tree_with_tag_ids.ttl',\n",
       " '1_bigg_project_full_asset_tree_with_tag_ids_test.ttl',\n",
       " '1_bigg_project_full_asset_tree_with_tag_ids_updated.rml',\n",
       " '1_bigg_project_full_asset_tree_with_tag_ids_withoutOrphan.ttl',\n",
       " '2bis_interamerican_electricity_consumption_metric_details.json',\n",
       " '2bis_interamerican_electricity_consumption_metric_details.rml',\n",
       " '2bis_interamerican_electricity_consumption_metric_details.ttl',\n",
       " '2bis_interamerican_electricity_consumption_metric_details_updated.rml',\n",
       " '2_interamerican_electricity_consumption_timeseries.json',\n",
       " '2_interamerican_electricity_consumption_timeseries.rml',\n",
       " '2_interamerican_electricity_consumption_timeseries.ttl',\n",
       " '2_interamerican_electricity_consumption_timeseries_updated.rml',\n",
       " '3_interamerican_outdoor_temperature_timeseries.json',\n",
       " '3_interamerican_outdoor_temperature_timeseries.rml',\n",
       " '3_interamerican_outdoor_temperature_timeseries.ttl',\n",
       " '3_interamerican_outdoor_temperature_timeseries_updated.rml',\n",
       " 'remove_orphan_devices.txt']"
      ]
     },
     "execution_count": 2,
     "metadata": {},
     "output_type": "execute_result"
    }
   ],
   "source": [
    "os.listdir(os.path.join(os.getcwd(),'data\\\\Demo_Helexia-Energis'))"
   ]
  },
  {
   "cell_type": "markdown",
   "id": "87262fed",
   "metadata": {},
   "source": [
    "### Convert Json Files with the RML mapping files"
   ]
  },
  {
   "cell_type": "code",
   "execution_count": 3,
   "id": "f8275f3f",
   "metadata": {},
   "outputs": [
    {
     "name": "stdout",
     "output_type": "stream",
     "text": [
      "---- JSON File : data\\Demo_Helexia-Energis\\1bis_interamerican_asset_details.json \n",
      "-- Conversion TTL : OK \n",
      "---- JSON File : data\\Demo_Helexia-Energis\\1_bigg_project_full_asset_tree_with_tag_ids.json \n",
      "-- Conversion TTL : OK \n",
      "---- JSON File : data\\Demo_Helexia-Energis\\2bis_interamerican_electricity_consumption_metric_details.json \n",
      "-- Conversion TTL : OK \n",
      "---- JSON File : data\\Demo_Helexia-Energis\\2_interamerican_electricity_consumption_timeseries.json \n",
      "-- Conversion TTL : OK \n",
      "---- JSON File : data\\Demo_Helexia-Energis\\3_interamerican_outdoor_temperature_timeseries.json \n",
      "-- Conversion TTL : OK \n"
     ]
    }
   ],
   "source": [
    "for jsonFile in glob.glob('data\\\\Demo_Helexia-Energis\\\\*.json'):\n",
    "    RMLFile = jsonFile.replace('.json','.rml')\n",
    "    OutputFile = jsonFile.replace('.json','.ttl')\n",
    "\n",
    "    print(f'---- JSON File : {jsonFile} ') \n",
    "    os.system(f'python harmonizer.py --input {jsonFile} --mapping {RMLFile} --output {OutputFile}')\n",
    "    print(f'-- Conversion TTL : OK ') "
   ]
  },
  {
   "cell_type": "markdown",
   "id": "98eee17d",
   "metadata": {},
   "source": [
    "### Example of a ttl output file"
   ]
  },
  {
   "cell_type": "code",
   "execution_count": 4,
   "id": "a027b70c",
   "metadata": {},
   "outputs": [
    {
     "name": "stdout",
     "output_type": "stream",
     "text": [
      "@prefix ns1: <http://bigg-project.eu/> .\n",
      "\n",
      "<http://bigg-project.eu/instances/building_58> a ns1:Building ;\n",
      "    ns1:buildingIdFromOrganization \"58\" ;\n",
      "    ns1:buildingName \"Interamerican\" ;\n",
      "    ns1:hasLocationInfo <http://bigg-project.eu/instances/locationInfo_58> .\n",
      "\n",
      "<http://bigg-project.eu/instances/addressCountry_58> a ns1:AddressCountry ;\n",
      "    ns1:addressCountryCode \"GR\" .\n",
      "\n",
      "<http://bigg-project.eu/instances/locationInfo_58> a ns1:LocationInfo ;\n",
      "    ns1:addressLatitude \"37.9607804\" ;\n",
      "    ns1:addressLongitude \"23.72126837\" ;\n",
      "    ns1:addressPostalCode \"11745\" ;\n",
      "    ns1:addressStreetName \"Syggrou 124 avenue\" ;\n",
      "    ns1:addressStreetNumber \"\" ;\n",
      "    ns1:hasAddressCountry <http://bigg-project.eu/instances/addressCountry_58> .\n",
      "\n",
      "\n"
     ]
    }
   ],
   "source": [
    "ttl = pathlib.Path(\"data\\\\Demo_Helexia-Energis\\\\1bis_interamerican_asset_details.ttl\").read_text()\n",
    "print(ttl)"
   ]
  },
  {
   "cell_type": "markdown",
   "id": "ac49db7e",
   "metadata": {},
   "source": [
    "### Example of use of the sparql stage\n",
    "\n",
    "In the following example, we will remove orphans devices, which are not related to a space. The sparql request is in the file named 'remove_orphan_devices.txt' and we will associate it with the first **json** file which contained orphans devices.  "
   ]
  },
  {
   "cell_type": "code",
   "execution_count": 5,
   "id": "a253724a",
   "metadata": {},
   "outputs": [
    {
     "data": {
      "text/plain": [
       "0"
      ]
     },
     "execution_count": 5,
     "metadata": {},
     "output_type": "execute_result"
    }
   ],
   "source": [
    "jsonFile = 'data\\\\Demo_Helexia-energis\\\\1_bigg_project_full_asset_tree_with_tag_ids.json'\n",
    "RMLFile = 'data\\\\Demo_Helexia-energis\\\\1_bigg_project_full_asset_tree_with_tag_ids.rml'\n",
    "SparqlFile = 'data\\\\Demo_Helexia-energis\\\\remove_orphan_devices.txt'\n",
    "OutputFile = 'data\\\\Demo_Helexia-energis\\\\1_bigg_project_full_asset_tree_with_tag_ids_withoutOrphan.ttl'\n",
    "\n",
    "os.system(f'python harmonizer.py --input {jsonFile} --mapping {RMLFile} --sparql {SparqlFile} --output {OutputFile}')"
   ]
  },
  {
   "cell_type": "markdown",
   "id": "79eea2a1",
   "metadata": {},
   "source": [
    "The result **ttl** file will no longer have the 5 orphans devices (101, 192, 196, 197, 95)"
   ]
  },
  {
   "cell_type": "code",
   "execution_count": 6,
   "id": "3a3b0d4e",
   "metadata": {},
   "outputs": [
    {
     "name": "stdout",
     "output_type": "stream",
     "text": [
      "@prefix ns1: <http://bigg-project.eu/> .\n",
      "\n",
      "<http://bigg-project.eu/instances/project_158> a ns1:Project ;\n",
      "    ns1:affectsBuilding <http://bigg-project.eu/instances/building_58> ;\n",
      "    ns1:projectIdFromOrganization \"158\" ;\n",
      "    ns1:projectName \"Cordia\" .\n",
      "\n",
      "<http://bigg-project.eu/instances/buildingSpace_58> a ns1:BuildingSpace ;\n",
      "    ns1:containsElement <http://bigg-project.eu/instances/deviceMeter_59>,\n",
      "        <http://bigg-project.eu/instances/deviceMeter_60> .\n",
      "\n",
      "<http://bigg-project.eu/instances/building_58> a ns1:Building ;\n",
      "    ns1:buildingIdFromOrganization \"58\" ;\n",
      "    ns1:buildingName \"Interamerican\" ;\n",
      "    ns1:hasSpace <http://bigg-project.eu/instances/buildingSpace_58> ;\n",
      "    ns1:pertainsToOrganization <http://bigg-project.eu/instances/organisation_58> .\n",
      "\n",
      "<http://bigg-project.eu/instances/deviceMeter_59> a ns1:Device ;\n",
      "    ns1:deviceIdFromOrganization \"59\" ;\n",
      "    ns1:name \"Main Switch Meter 1\" .\n",
      "\n",
      "<http://bigg-project.eu/instances/deviceMeter_60> a ns1:Device ;\n",
      "    ns1:deviceIdFromOrganization \"60\" ;\n",
      "    ns1:name \"Main Switch Meter 2\" .\n",
      "\n",
      "<http://bigg-project.eu/instances/energyPerformanceContract_185> a ns1:EnergyPerformanceContract ;\n",
      "    ns1:contractEndDate \"2028/08/01\" ;\n",
      "    ns1:contractName \"M&V Electricity & Oil\" ;\n",
      "    ns1:contractPerimeter \"Total Scope\" ;\n",
      "    ns1:contractStartDate \"2018/08/01\" ;\n",
      "    ns1:hasObjective <http://bigg-project.eu/instances/energyPerformanceObjective_186>,\n",
      "        <http://bigg-project.eu/instances/energyPerformanceObjective_187> .\n",
      "\n",
      "<http://bigg-project.eu/instances/energyPerformanceObjective_186> a ns1:EnergyPerformanceObjective ;\n",
      "    ns1:objectiveDescription \"Percentage\" ;\n",
      "    ns1:objectiveName \"M&V Electricity\" ;\n",
      "    ns1:objectiveTargetValue \"12\" ;\n",
      "    ns1:objectiveUtility \"Electricity\" .\n",
      "\n",
      "<http://bigg-project.eu/instances/energyPerformanceObjective_187> a ns1:EnergyPerformanceObjective ;\n",
      "    ns1:objectiveDescription \"Percentage\" ;\n",
      "    ns1:objectiveName \"M&V Oil\" ;\n",
      "    ns1:objectiveTargetValue \"12\" ;\n",
      "    ns1:objectiveUtility \"Oil\" .\n",
      "\n",
      "<http://bigg-project.eu/instances/organisation_58> a ns1:Organization ;\n",
      "    ns1:buysContract <http://bigg-project.eu/instances/energyPerformanceContract_185> .\n",
      "\n",
      "\n"
     ]
    }
   ],
   "source": [
    "ttl = pathlib.Path(\"data\\\\Demo_Helexia-energis\\\\1_bigg_project_full_asset_tree_with_tag_ids_withoutOrphan.ttl\").read_text()\n",
    "print(ttl)"
   ]
  },
  {
   "cell_type": "code",
   "execution_count": null,
   "id": "ddc29d47",
   "metadata": {},
   "outputs": [],
   "source": []
  }
 ],
 "metadata": {
  "kernelspec": {
   "display_name": "Python 3 (ipykernel)",
   "language": "python",
   "name": "python3"
  },
  "language_info": {
   "codemirror_mode": {
    "name": "ipython",
    "version": 3
   },
   "file_extension": ".py",
   "mimetype": "text/x-python",
   "name": "python",
   "nbconvert_exporter": "python",
   "pygments_lexer": "ipython3",
   "version": "3.10.5"
  }
 },
 "nbformat": 4,
 "nbformat_minor": 5
}
