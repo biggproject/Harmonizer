{
 "cells": [
  {
   "cell_type": "markdown",
   "id": "1f81f445",
   "metadata": {},
   "source": [
    "# Harmonizer Demo : converts Json files into RDF files  \n",
    "### Data from HERON"
   ]
  },
  {
   "cell_type": "markdown",
   "id": "2dac07ec",
   "metadata": {},
   "source": [
    "### Import libraries"
   ]
  },
  {
   "cell_type": "code",
   "execution_count": 1,
   "id": "13ef4cc5",
   "metadata": {},
   "outputs": [],
   "source": [
    "import os\n",
    "import json\n",
    "import pathlib\n",
    "import glob"
   ]
  },
  {
   "cell_type": "markdown",
   "id": "291d56e1",
   "metadata": {},
   "source": [
    "## Table of Contents\n",
    "\n",
    "1. [Aim](#1.-Aim)  \n",
    "\n",
    "2. [Arguments of the module](#2.-Arguments-of-the-module)  \n",
    "\n",
    "3. [Examples of use](#3.-Examples-of-use)  "
   ]
  },
  {
   "cell_type": "markdown",
   "id": "a2561180",
   "metadata": {},
   "source": [
    "## 1. Aim  \n",
    "  \n",
    "The aim of this module is to convert files containing data in a natural language into a file which can be read by a machine to create an ontologie.\n",
    "The principal idea is to transform a **JSON** file into a **RDF/Turtle** file by using a mapping file (**RML**) previously created.\n",
    "Then, we added a module to modify, insert data into a created **RDF** file thantks to some **SPARQL querries** on the previous graph.  \n",
    "\n",
    "![scheme](documentation/scheme_harmonizer.png)"
   ]
  },
  {
   "cell_type": "markdown",
   "id": "569f22f0",
   "metadata": {},
   "source": [
    "## 2. Arguments of the module  \n",
    "\n",
    "There are 2 modules inside the harmonizer tool :  \n",
    "* The conversion  \n",
    "* The Sparql Estage  \n",
    "\n",
    "To activate the previous modules, you will have to specify them in the call of the tool. \n",
    "The basic command line to execute the Python tool is the following :  \n",
    "\n",
    "&nbsp; **python** &nbsp; $\\color{blue}{harmonizer.py}$ &nbsp; $\\color{red}{--input}$ &nbsp; $\\color{red}{inputFile}$ &nbsp; $\\color{orange}{[--mapping}$ &nbsp; $\\color{orange}{RMLFile]}$ &nbsp; $\\color{green}{[--sparql}$ &nbsp; $\\color{green}{SparqlFiles]}$ &nbsp; $\\color{purple}{[--output}$ &nbsp; $\\color{purple}{outputFilename]}$    \n"
   ]
  },
  {
   "cell_type": "markdown",
   "id": "7d479ee8",
   "metadata": {},
   "source": [
    "## 3. Examples\n",
    "\n",
    "The following example will use the data from HERON, there are 5 **json** files, 5 **rml** files and some **sparql** queries.  \n",
    "You will find them in the **data/Demo_HERON** folder : "
   ]
  },
  {
   "cell_type": "code",
   "execution_count": 2,
   "id": "e0af9818",
   "metadata": {},
   "outputs": [
    {
     "data": {
      "text/plain": [
       "['1_BIGG_HERON_Static_Home_Data.json',\n",
       " '1_BIGG_HERON_Static_Home_Data.rml',\n",
       " '1_BIGG_HERON_Static_Home_Data.ttl',\n",
       " '1_BIGG_HERON_Static_Home_Data.yaml',\n",
       " '1_BIGG_HERON_Static_Home_Data__SOURCE__.rml',\n",
       " '2_3-phase-em-meter.json',\n",
       " '2_3-phase-em-meter.rml',\n",
       " '2_3-phase-em-meter.ttl',\n",
       " '2_3-phase-em-meter.yaml',\n",
       " '2_3-phase-em-meter__SOURCE__.rml',\n",
       " '3_Smart_plug.json',\n",
       " '3_Smart_plug.rml',\n",
       " '3_Smart_plug.ttl',\n",
       " '3_Smart_plug.yaml',\n",
       " '3_Smart_plug__SOURCE__.rml',\n",
       " '4_Smart_plug_s.json',\n",
       " '4_Smart_plug_s.rml',\n",
       " '4_Smart_plug_s.ttl',\n",
       " '4_Smart_plug_s.yaml',\n",
       " '4_Smart_plug_s__SOURCE__.rml',\n",
       " '5_Motion_sensor.json',\n",
       " '5_Motion_sensor.rml',\n",
       " '5_Motion_sensor.ttl',\n",
       " '5_Motion_sensor.yaml',\n",
       " '5_Motion_sensor__SOURCE__.rml']"
      ]
     },
     "execution_count": 2,
     "metadata": {},
     "output_type": "execute_result"
    }
   ],
   "source": [
    "os.listdir(os.path.join(os.getcwd(),'data\\\\Demo_HERON'))"
   ]
  },
  {
   "cell_type": "markdown",
   "id": "117bf463",
   "metadata": {},
   "source": [
    "### Convert Json Files with the RML mapping files"
   ]
  },
  {
   "cell_type": "code",
   "execution_count": 3,
   "id": "1ad12151",
   "metadata": {},
   "outputs": [
    {
     "name": "stdout",
     "output_type": "stream",
     "text": [
      "---- JSON File : data\\Demo_HERON\\1_BIGG_HERON_Static_Home_Data.json \n",
      "-- Conversion TTL : OK \n",
      "---- JSON File : data\\Demo_HERON\\2_3-phase-em-meter.json \n",
      "-- Conversion TTL : OK \n",
      "---- JSON File : data\\Demo_HERON\\3_Smart_plug.json \n",
      "-- Conversion TTL : OK \n",
      "---- JSON File : data\\Demo_HERON\\4_Smart_plug_s.json \n",
      "-- Conversion TTL : OK \n",
      "---- JSON File : data\\Demo_HERON\\5_Motion_sensor.json \n",
      "-- Conversion TTL : OK \n"
     ]
    }
   ],
   "source": [
    "for jsonFile in glob.glob('data\\\\Demo_HERON\\\\*.json'):\n",
    "    RMLFile = jsonFile.replace('.json','__SOURCE__.rml')\n",
    "    OutputFile = jsonFile.replace('.json','.ttl')\n",
    "\n",
    "    print(f'---- JSON File : {jsonFile} ') \n",
    "    os.system(f'python harmonizer.py --input {jsonFile} --mapping {RMLFile} --output {OutputFile}')\n",
    "    print(f'-- Conversion TTL : OK ') "
   ]
  },
  {
   "cell_type": "markdown",
   "id": "20c46d3e",
   "metadata": {},
   "source": [
    "### Example of a ttl output file"
   ]
  },
  {
   "cell_type": "code",
   "execution_count": 4,
   "id": "ffa230b1",
   "metadata": {},
   "outputs": [
    {
     "name": "stdout",
     "output_type": "stream",
     "text": [
      "@prefix ns1: <http://bigg-project.eu/> .\n",
      "\n",
      "<http://bigg-project.eu/instances/building_39> a ns1:Building ;\n",
      "    ns1:buildingName \"building_39\" ;\n",
      "    ns1:hasLocationInfo <http://bigg-project.eu/instances/locationInfo_building_39> ;\n",
      "    ns1:hasSpace <http://bigg-project.eu/instances/buildingSpace_39> .\n",
      "\n",
      "<http://bigg-project.eu/instances/buildingSpace_39> a ns1:BuildingSpace ;\n",
      "    ns1:buildingSpaceName \"building_39\" ;\n",
      "    ns1:hasArea \"107\" ;\n",
      "    ns1:hasOccupencyProfile <http://bigg-project.eu/instances/occupancyProfile_building_39> ;\n",
      "    ns1:isAssociatedWithElement <http://bigg-project.eu/instances/device_domxem3-ECFABCC7F071>,\n",
      "        <http://bigg-project.eu/instances/device_domxmotionsensor-60A423992494>,\n",
      "        <http://bigg-project.eu/instances/device_domxplug-2842FB>,\n",
      "        <http://bigg-project.eu/instances/device_shellyplug-s-C1AE2F> .\n",
      "\n",
      "<http://bigg-project.eu/instances/deviceType_2> a ns1:DeviceType ;\n",
      "    ns1:deviceTypeName \"3-phase EM_METER\" .\n",
      "\n",
      "<http://bigg-project.eu/instances/deviceType_4> a ns1:DeviceType ;\n",
      "    ns1:deviceTypeName \"Smart Plug\" .\n",
      "\n",
      "<http://bigg-project.eu/instances/deviceType_5> a ns1:DeviceType ;\n",
      "    ns1:deviceTypeName \"Smart Plug S\" .\n",
      "\n",
      "<http://bigg-project.eu/instances/deviceType_6> a ns1:DeviceType ;\n",
      "    ns1:deviceTypeName \"Motion Sensor\" .\n",
      "\n",
      "<http://bigg-project.eu/instances/device_domxem3-ECFABCC7F071> a ns1:Device ;\n",
      "    ns1:deviceIDFromOrganization \"domxem3-ECFABCC7F071\" ;\n",
      "    ns1:hasDeviceType <http://bigg-project.eu/instances/deviceType_2> .\n",
      "\n",
      "<http://bigg-project.eu/instances/device_domxmotionsensor-60A423992494> a ns1:Device ;\n",
      "    ns1:deviceIDFromOrganization \"domxmotionsensor-60A423992494\" ;\n",
      "    ns1:hasDeviceType <http://bigg-project.eu/instances/deviceType_6> .\n",
      "\n",
      "<http://bigg-project.eu/instances/device_domxplug-2842FB> a ns1:Device ;\n",
      "    ns1:deviceIDFromOrganization \"domxplug-2842FB\" ;\n",
      "    ns1:hasDeviceType <http://bigg-project.eu/instances/deviceType_4> .\n",
      "\n",
      "<http://bigg-project.eu/instances/device_shellyplug-s-C1AE2F> a ns1:Device ;\n",
      "    ns1:deviceIDFromOrganization \"shellyplug-s-C1AE2F\" ;\n",
      "    ns1:hasDeviceType <http://bigg-project.eu/instances/deviceType_5> .\n",
      "\n",
      "<http://bigg-project.eu/instances/locationInfo_building_39> a ns1:LocationInfo ;\n",
      "    ns1:adressLatitude \"40.6039822\" ;\n",
      "    ns1:adressLongitude \"22.9502155\" ;\n",
      "    ns1:hasAddressClimateZone \"GRC_A\" .\n",
      "\n",
      "<http://bigg-project.eu/instances/occupancyProfile_building_39> a ns1:OccupancyProfile ;\n",
      "    ns1:occupancyNumberOfOccupants \"2\" .\n",
      "\n",
      "\n"
     ]
    }
   ],
   "source": [
    "ttl = pathlib.Path(\"data\\\\Demo_HERON\\\\1_BIGG_HERON_Static_Home_Data.ttl\").read_text()\n",
    "print(ttl)"
   ]
  },
  {
   "cell_type": "code",
   "execution_count": null,
   "id": "e9c7e041",
   "metadata": {},
   "outputs": [],
   "source": []
  },
  {
   "cell_type": "code",
   "execution_count": null,
   "id": "a18c19b6",
   "metadata": {},
   "outputs": [],
   "source": []
  }
 ],
 "metadata": {
  "kernelspec": {
   "display_name": "Python 3 (ipykernel)",
   "language": "python",
   "name": "python3"
  },
  "language_info": {
   "codemirror_mode": {
    "name": "ipython",
    "version": 3
   },
   "file_extension": ".py",
   "mimetype": "text/x-python",
   "name": "python",
   "nbconvert_exporter": "python",
   "pygments_lexer": "ipython3",
   "version": "3.10.5"
  }
 },
 "nbformat": 4,
 "nbformat_minor": 5
}
